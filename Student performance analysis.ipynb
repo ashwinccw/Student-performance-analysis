{
 "cells": [
  {
   "cell_type": "markdown",
   "metadata": {},
   "source": [
    "##### Classifying(clustering) students into 3 categories based on their marks obtained from an individual subject.\n",
    "we use K-means clustering algorithm for grouping students into slow-learners,average and toppers respectively.\n"
   ]
  },
  {
   "cell_type": "code",
   "execution_count": 1,
   "metadata": {},
   "outputs": [],
   "source": [
    "import numpy as np\n",
    "import matplotlib.pyplot as plt"
   ]
  },
  {
   "cell_type": "markdown",
   "metadata": {},
   "source": [
    "\n",
    "Marks scored by 15students in Computer Networks subject"
   ]
  },
  {
   "cell_type": "code",
   "execution_count": 2,
   "metadata": {},
   "outputs": [],
   "source": [
    "cn=np.array([[59,0],[82,0],[65,0],[45,0],[30,0],[25,0],[53,0],[75,0],[33,0],[100,0],[12,0],[49,0],[92,0],[18,0],[68,0]])"
   ]
  },
  {
   "cell_type": "code",
   "execution_count": 3,
   "metadata": {},
   "outputs": [
    {
     "data": {
      "text/plain": [
       "array([[ 59,   0],\n",
       "       [ 82,   0],\n",
       "       [ 65,   0],\n",
       "       [ 45,   0],\n",
       "       [ 30,   0],\n",
       "       [ 25,   0],\n",
       "       [ 53,   0],\n",
       "       [ 75,   0],\n",
       "       [ 33,   0],\n",
       "       [100,   0],\n",
       "       [ 12,   0],\n",
       "       [ 49,   0],\n",
       "       [ 92,   0],\n",
       "       [ 18,   0],\n",
       "       [ 68,   0]])"
      ]
     },
     "execution_count": 3,
     "metadata": {},
     "output_type": "execute_result"
    }
   ],
   "source": [
    "cn"
   ]
  },
  {
   "cell_type": "markdown",
   "metadata": {},
   "source": [
    "initializing K-means algorithm"
   ]
  },
  {
   "cell_type": "code",
   "execution_count": 4,
   "metadata": {},
   "outputs": [],
   "source": [
    "from sklearn.cluster import KMeans\n"
   ]
  },
  {
   "cell_type": "code",
   "execution_count": 5,
   "metadata": {},
   "outputs": [
    {
     "data": {
      "text/plain": [
       "KMeans(algorithm='auto', copy_x=True, init='k-means++', max_iter=300,\n",
       "    n_clusters=3, n_init=10, n_jobs=1, precompute_distances='auto',\n",
       "    random_state=None, tol=0.0001, verbose=0)"
      ]
     },
     "execution_count": 5,
     "metadata": {},
     "output_type": "execute_result"
    }
   ],
   "source": [
    "k = KMeans(n_clusters=3)  #no of clusters =3(slowlearns,avg,toppers)\n",
    "k.fit(cn) \n"
   ]
  },
  {
   "cell_type": "code",
   "execution_count": 6,
   "metadata": {},
   "outputs": [
    {
     "name": "stdout",
     "output_type": "stream",
     "text": [
      "[[56.5   0.  ]\n",
      " [87.25  0.  ]\n",
      " [23.6   0.  ]]\n"
     ]
    }
   ],
   "source": [
    "print(k.cluster_centers_) #formed clusters"
   ]
  },
  {
   "cell_type": "code",
   "execution_count": 7,
   "metadata": {},
   "outputs": [
    {
     "name": "stdout",
     "output_type": "stream",
     "text": [
      "[0 1 0 0 2 2 0 1 2 1 2 0 1 2 0]\n"
     ]
    }
   ],
   "source": [
    "print(k.labels_) #labels indicates clusters numbers each given student's mark belongs to .."
   ]
  },
  {
   "cell_type": "markdown",
   "metadata": {},
   "source": [
    "."
   ]
  },
  {
   "cell_type": "markdown",
   "metadata": {},
   "source": [
    "##### visualizing the result"
   ]
  },
  {
   "cell_type": "code",
   "execution_count": 8,
   "metadata": {},
   "outputs": [
    {
     "data": {
      "image/png": "[encoded data removed]",
      "text/plain": [
       "<Figure size 432x288 with 1 Axes>"
      ]
     },
     "metadata": {},
     "output_type": "display_data"
    }
   ],
   "source": [
    "plt.scatter(cn[:,0],cn[:,1],marker='^', c=k.labels_, cmap='rainbow' )\n",
    "plt.grid()\n",
    "plt.xlabel('Marks');\n",
    "plt.ylabel('Attempts');\n",
    "plt.title('Student Performance Analysis');"
   ]
  },
  {
   "cell_type": "markdown",
   "metadata": {},
   "source": [
    "."
   ]
  },
  {
   "cell_type": "markdown",
   "metadata": {},
   "source": [
    "## Let us assume that if we in need to classify 100 students based on their performance in Data Mining\n",
    "\n"
   ]
  },
  {
   "cell_type": "code",
   "execution_count": 9,
   "metadata": {},
   "outputs": [
    {
     "data": {
      "text/plain": [
       "(100, 2)"
      ]
     },
     "execution_count": 9,
     "metadata": {},
     "output_type": "execute_result"
    }
   ],
   "source": [
    "stu=np.random.random([100,2]) #randomly assigning marks for 100 students\n",
    "stu.shape"
   ]
  },
  {
   "cell_type": "code",
   "execution_count": 10,
   "metadata": {},
   "outputs": [
    {
     "data": {
      "text/plain": [
       "KMeans(algorithm='auto', copy_x=True, init='k-means++', max_iter=300,\n",
       "    n_clusters=3, n_init=10, n_jobs=1, precompute_distances='auto',\n",
       "    random_state=None, tol=0.0001, verbose=0)"
      ]
     },
     "execution_count": 10,
     "metadata": {},
     "output_type": "execute_result"
    }
   ],
   "source": [
    "k2 = KMeans(n_clusters=3)  #no of clusters =3\n",
    "k2.fit(stu) "
   ]
  },
  {
   "cell_type": "code",
   "execution_count": 11,
   "metadata": {},
   "outputs": [
    {
     "name": "stdout",
     "output_type": "stream",
     "text": [
      "[[0.84146086 0.75256246]\n",
      " [0.46507964 0.20182641]\n",
      " [0.22964384 0.72532212]]\n"
     ]
    }
   ],
   "source": [
    "print(k2.cluster_centers_) #formed clusters"
   ]
  },
  {
   "cell_type": "code",
   "execution_count": 12,
   "metadata": {},
   "outputs": [
    {
     "name": "stdout",
     "output_type": "stream",
     "text": [
      "[0 0 1 2 1 2 1 1 2 1 2 0 2 1 2 1 2 1 1 2 0 0 1 2 2 1 1 1 1 2 2 1 2 1 2 2 2\n",
      " 2 1 1 1 2 0 2 1 1 2 1 2 0 2 0 0 1 1 2 1 2 2 2 2 1 1 1 1 2 1 2 2 0 1 1 1 1\n",
      " 2 2 0 1 0 1 1 1 1 0 0 1 2 1 1 2 0 1 1 0 1 2 0 1 0 2]\n"
     ]
    }
   ],
   "source": [
    "print(k2.labels_) #labels indicates clusters numbers each given student's mark belongs to .."
   ]
  },
  {
   "cell_type": "code",
   "execution_count": 13,
   "metadata": {},
   "outputs": [
    {
     "data": {
      "image/png": "[encoded data removed]",
      "text/plain": [
       "<Figure size 432x288 with 1 Axes>"
      ]
     },
     "metadata": {},
     "output_type": "display_data"
    }
   ],
   "source": [
    "plt.scatter(stu[:,0],stu[:,1],marker='^', c=k2.labels_, cmap='rainbow' )\n",
    "plt.grid()\n",
    "plt.xlabel('Marks');\n",
    "plt.ylabel('');\n",
    "plt.title('Student Performance Analysis');"
   ]
  },
  {
   "cell_type": "code",
   "execution_count": null,
   "metadata": {},
   "outputs": [],
   "source": []
  }
 ],
 "metadata": {
  "kernelspec": {
   "display_name": "Python 3",
   "language": "python",
   "name": "python3"
  },
  "language_info": {
   "codemirror_mode": {
    "name": "ipython",
    "version": 3
   },
   "file_extension": ".py",
   "mimetype": "text/x-python",
   "name": "python",
   "nbconvert_exporter": "python",
   "pygments_lexer": "ipython3",
   "version": "3.6.5"
  }
 },
 "nbformat": 4,
 "nbformat_minor": 2
}
